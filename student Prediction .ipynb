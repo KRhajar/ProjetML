{
 "cells": [
  {
   "cell_type": "code",
   "execution_count": 22,
   "id": "c92b2ed6",
   "metadata": {},
   "outputs": [],
   "source": [
    "import pandas as pd\n",
    "import numpy as np\n",
    "import matplotlib.pyplot as plt\n",
    "from sklearn.linear_model import LinearRegression\n",
    "from sklearn.model_selection import train_test_split"
   ]
  },
  {
   "cell_type": "code",
   "execution_count": 23,
   "id": "6303058d",
   "metadata": {},
   "outputs": [],
   "source": [
    "df = pd.read_csv('StudentsPerformance.csv')"
   ]
  },
  {
   "cell_type": "code",
   "execution_count": 24,
   "id": "77cdda7a",
   "metadata": {},
   "outputs": [
    {
     "data": {
      "text/html": [
       "<div>\n",
       "<style scoped>\n",
       "    .dataframe tbody tr th:only-of-type {\n",
       "        vertical-align: middle;\n",
       "    }\n",
       "\n",
       "    .dataframe tbody tr th {\n",
       "        vertical-align: top;\n",
       "    }\n",
       "\n",
       "    .dataframe thead th {\n",
       "        text-align: right;\n",
       "    }\n",
       "</style>\n",
       "<table border=\"1\" class=\"dataframe\">\n",
       "  <thead>\n",
       "    <tr style=\"text-align: right;\">\n",
       "      <th></th>\n",
       "      <th>gender</th>\n",
       "      <th>race/ethnicity</th>\n",
       "      <th>parental level of education</th>\n",
       "      <th>lunch</th>\n",
       "      <th>test preparation course</th>\n",
       "      <th>math score</th>\n",
       "      <th>reading score</th>\n",
       "      <th>success</th>\n",
       "    </tr>\n",
       "  </thead>\n",
       "  <tbody>\n",
       "    <tr>\n",
       "      <th>0</th>\n",
       "      <td>female</td>\n",
       "      <td>group B</td>\n",
       "      <td>bachelor's degree</td>\n",
       "      <td>standard</td>\n",
       "      <td>none</td>\n",
       "      <td>72</td>\n",
       "      <td>72</td>\n",
       "      <td>74</td>\n",
       "    </tr>\n",
       "    <tr>\n",
       "      <th>1</th>\n",
       "      <td>female</td>\n",
       "      <td>group C</td>\n",
       "      <td>some college</td>\n",
       "      <td>standard</td>\n",
       "      <td>completed</td>\n",
       "      <td>69</td>\n",
       "      <td>90</td>\n",
       "      <td>88</td>\n",
       "    </tr>\n",
       "    <tr>\n",
       "      <th>2</th>\n",
       "      <td>female</td>\n",
       "      <td>group B</td>\n",
       "      <td>master's degree</td>\n",
       "      <td>standard</td>\n",
       "      <td>none</td>\n",
       "      <td>90</td>\n",
       "      <td>95</td>\n",
       "      <td>93</td>\n",
       "    </tr>\n",
       "    <tr>\n",
       "      <th>3</th>\n",
       "      <td>male</td>\n",
       "      <td>group A</td>\n",
       "      <td>associate's degree</td>\n",
       "      <td>free/reduced</td>\n",
       "      <td>none</td>\n",
       "      <td>47</td>\n",
       "      <td>57</td>\n",
       "      <td>44</td>\n",
       "    </tr>\n",
       "    <tr>\n",
       "      <th>4</th>\n",
       "      <td>male</td>\n",
       "      <td>group C</td>\n",
       "      <td>some college</td>\n",
       "      <td>standard</td>\n",
       "      <td>none</td>\n",
       "      <td>76</td>\n",
       "      <td>78</td>\n",
       "      <td>75</td>\n",
       "    </tr>\n",
       "  </tbody>\n",
       "</table>\n",
       "</div>"
      ],
      "text/plain": [
       "   gender race/ethnicity parental level of education         lunch  \\\n",
       "0  female        group B           bachelor's degree      standard   \n",
       "1  female        group C                some college      standard   \n",
       "2  female        group B             master's degree      standard   \n",
       "3    male        group A          associate's degree  free/reduced   \n",
       "4    male        group C                some college      standard   \n",
       "\n",
       "  test preparation course  math score  reading score  success  \n",
       "0                    none          72             72       74  \n",
       "1               completed          69             90       88  \n",
       "2                    none          90             95       93  \n",
       "3                    none          47             57       44  \n",
       "4                    none          76             78       75  "
      ]
     },
     "execution_count": 24,
     "metadata": {},
     "output_type": "execute_result"
    }
   ],
   "source": [
    "df.head()"
   ]
  },
  {
   "cell_type": "code",
   "execution_count": 25,
   "id": "6b5d585c",
   "metadata": {},
   "outputs": [
    {
     "data": {
      "text/html": [
       "<div>\n",
       "<style scoped>\n",
       "    .dataframe tbody tr th:only-of-type {\n",
       "        vertical-align: middle;\n",
       "    }\n",
       "\n",
       "    .dataframe tbody tr th {\n",
       "        vertical-align: top;\n",
       "    }\n",
       "\n",
       "    .dataframe thead th {\n",
       "        text-align: right;\n",
       "    }\n",
       "</style>\n",
       "<table border=\"1\" class=\"dataframe\">\n",
       "  <thead>\n",
       "    <tr style=\"text-align: right;\">\n",
       "      <th></th>\n",
       "      <th>gender</th>\n",
       "      <th>race/ethnicity</th>\n",
       "      <th>parental level of education</th>\n",
       "      <th>lunch</th>\n",
       "      <th>test preparation course</th>\n",
       "      <th>math score</th>\n",
       "      <th>reading score</th>\n",
       "      <th>success</th>\n",
       "    </tr>\n",
       "  </thead>\n",
       "  <tbody>\n",
       "    <tr>\n",
       "      <th>0</th>\n",
       "      <td>female</td>\n",
       "      <td>group B</td>\n",
       "      <td>bachelor's degree</td>\n",
       "      <td>standard</td>\n",
       "      <td>none</td>\n",
       "      <td>72</td>\n",
       "      <td>72</td>\n",
       "      <td>74</td>\n",
       "    </tr>\n",
       "    <tr>\n",
       "      <th>1</th>\n",
       "      <td>female</td>\n",
       "      <td>group C</td>\n",
       "      <td>some college</td>\n",
       "      <td>standard</td>\n",
       "      <td>completed</td>\n",
       "      <td>69</td>\n",
       "      <td>90</td>\n",
       "      <td>88</td>\n",
       "    </tr>\n",
       "    <tr>\n",
       "      <th>2</th>\n",
       "      <td>female</td>\n",
       "      <td>group B</td>\n",
       "      <td>master's degree</td>\n",
       "      <td>standard</td>\n",
       "      <td>none</td>\n",
       "      <td>90</td>\n",
       "      <td>95</td>\n",
       "      <td>93</td>\n",
       "    </tr>\n",
       "    <tr>\n",
       "      <th>3</th>\n",
       "      <td>male</td>\n",
       "      <td>group A</td>\n",
       "      <td>associate's degree</td>\n",
       "      <td>free/reduced</td>\n",
       "      <td>none</td>\n",
       "      <td>47</td>\n",
       "      <td>57</td>\n",
       "      <td>44</td>\n",
       "    </tr>\n",
       "    <tr>\n",
       "      <th>4</th>\n",
       "      <td>male</td>\n",
       "      <td>group C</td>\n",
       "      <td>some college</td>\n",
       "      <td>standard</td>\n",
       "      <td>none</td>\n",
       "      <td>76</td>\n",
       "      <td>78</td>\n",
       "      <td>75</td>\n",
       "    </tr>\n",
       "    <tr>\n",
       "      <th>...</th>\n",
       "      <td>...</td>\n",
       "      <td>...</td>\n",
       "      <td>...</td>\n",
       "      <td>...</td>\n",
       "      <td>...</td>\n",
       "      <td>...</td>\n",
       "      <td>...</td>\n",
       "      <td>...</td>\n",
       "    </tr>\n",
       "    <tr>\n",
       "      <th>995</th>\n",
       "      <td>female</td>\n",
       "      <td>group E</td>\n",
       "      <td>master's degree</td>\n",
       "      <td>standard</td>\n",
       "      <td>completed</td>\n",
       "      <td>88</td>\n",
       "      <td>99</td>\n",
       "      <td>95</td>\n",
       "    </tr>\n",
       "    <tr>\n",
       "      <th>996</th>\n",
       "      <td>male</td>\n",
       "      <td>group C</td>\n",
       "      <td>high school</td>\n",
       "      <td>free/reduced</td>\n",
       "      <td>none</td>\n",
       "      <td>62</td>\n",
       "      <td>55</td>\n",
       "      <td>55</td>\n",
       "    </tr>\n",
       "    <tr>\n",
       "      <th>997</th>\n",
       "      <td>female</td>\n",
       "      <td>group C</td>\n",
       "      <td>high school</td>\n",
       "      <td>free/reduced</td>\n",
       "      <td>completed</td>\n",
       "      <td>59</td>\n",
       "      <td>71</td>\n",
       "      <td>65</td>\n",
       "    </tr>\n",
       "    <tr>\n",
       "      <th>998</th>\n",
       "      <td>female</td>\n",
       "      <td>group D</td>\n",
       "      <td>some college</td>\n",
       "      <td>standard</td>\n",
       "      <td>completed</td>\n",
       "      <td>68</td>\n",
       "      <td>78</td>\n",
       "      <td>77</td>\n",
       "    </tr>\n",
       "    <tr>\n",
       "      <th>999</th>\n",
       "      <td>female</td>\n",
       "      <td>group D</td>\n",
       "      <td>some college</td>\n",
       "      <td>free/reduced</td>\n",
       "      <td>none</td>\n",
       "      <td>77</td>\n",
       "      <td>86</td>\n",
       "      <td>86</td>\n",
       "    </tr>\n",
       "  </tbody>\n",
       "</table>\n",
       "<p>1000 rows × 8 columns</p>\n",
       "</div>"
      ],
      "text/plain": [
       "     gender race/ethnicity parental level of education         lunch  \\\n",
       "0    female        group B           bachelor's degree      standard   \n",
       "1    female        group C                some college      standard   \n",
       "2    female        group B             master's degree      standard   \n",
       "3      male        group A          associate's degree  free/reduced   \n",
       "4      male        group C                some college      standard   \n",
       "..      ...            ...                         ...           ...   \n",
       "995  female        group E             master's degree      standard   \n",
       "996    male        group C                 high school  free/reduced   \n",
       "997  female        group C                 high school  free/reduced   \n",
       "998  female        group D                some college      standard   \n",
       "999  female        group D                some college  free/reduced   \n",
       "\n",
       "    test preparation course  math score  reading score  success  \n",
       "0                      none          72             72       74  \n",
       "1                 completed          69             90       88  \n",
       "2                      none          90             95       93  \n",
       "3                      none          47             57       44  \n",
       "4                      none          76             78       75  \n",
       "..                      ...         ...            ...      ...  \n",
       "995               completed          88             99       95  \n",
       "996                    none          62             55       55  \n",
       "997               completed          59             71       65  \n",
       "998               completed          68             78       77  \n",
       "999                    none          77             86       86  \n",
       "\n",
       "[1000 rows x 8 columns]"
      ]
     },
     "execution_count": 25,
     "metadata": {},
     "output_type": "execute_result"
    }
   ],
   "source": [
    "df.dropna()"
   ]
  },
  {
   "cell_type": "code",
   "execution_count": 26,
   "id": "54dacc90",
   "metadata": {},
   "outputs": [],
   "source": [
    "df['test preparation course']=df['test preparation course'].replace('none','0').replace('completed','1')"
   ]
  },
  {
   "cell_type": "code",
   "execution_count": 27,
   "id": "7d239cd8",
   "metadata": {},
   "outputs": [
    {
     "data": {
      "text/html": [
       "<div>\n",
       "<style scoped>\n",
       "    .dataframe tbody tr th:only-of-type {\n",
       "        vertical-align: middle;\n",
       "    }\n",
       "\n",
       "    .dataframe tbody tr th {\n",
       "        vertical-align: top;\n",
       "    }\n",
       "\n",
       "    .dataframe thead th {\n",
       "        text-align: right;\n",
       "    }\n",
       "</style>\n",
       "<table border=\"1\" class=\"dataframe\">\n",
       "  <thead>\n",
       "    <tr style=\"text-align: right;\">\n",
       "      <th></th>\n",
       "      <th>gender</th>\n",
       "      <th>race/ethnicity</th>\n",
       "      <th>parental level of education</th>\n",
       "      <th>lunch</th>\n",
       "      <th>test preparation course</th>\n",
       "      <th>math score</th>\n",
       "      <th>reading score</th>\n",
       "      <th>success</th>\n",
       "    </tr>\n",
       "  </thead>\n",
       "  <tbody>\n",
       "    <tr>\n",
       "      <th>0</th>\n",
       "      <td>female</td>\n",
       "      <td>group B</td>\n",
       "      <td>bachelor's degree</td>\n",
       "      <td>standard</td>\n",
       "      <td>0</td>\n",
       "      <td>72</td>\n",
       "      <td>72</td>\n",
       "      <td>74</td>\n",
       "    </tr>\n",
       "    <tr>\n",
       "      <th>1</th>\n",
       "      <td>female</td>\n",
       "      <td>group C</td>\n",
       "      <td>some college</td>\n",
       "      <td>standard</td>\n",
       "      <td>1</td>\n",
       "      <td>69</td>\n",
       "      <td>90</td>\n",
       "      <td>88</td>\n",
       "    </tr>\n",
       "    <tr>\n",
       "      <th>2</th>\n",
       "      <td>female</td>\n",
       "      <td>group B</td>\n",
       "      <td>master's degree</td>\n",
       "      <td>standard</td>\n",
       "      <td>0</td>\n",
       "      <td>90</td>\n",
       "      <td>95</td>\n",
       "      <td>93</td>\n",
       "    </tr>\n",
       "    <tr>\n",
       "      <th>3</th>\n",
       "      <td>male</td>\n",
       "      <td>group A</td>\n",
       "      <td>associate's degree</td>\n",
       "      <td>free/reduced</td>\n",
       "      <td>0</td>\n",
       "      <td>47</td>\n",
       "      <td>57</td>\n",
       "      <td>44</td>\n",
       "    </tr>\n",
       "    <tr>\n",
       "      <th>4</th>\n",
       "      <td>male</td>\n",
       "      <td>group C</td>\n",
       "      <td>some college</td>\n",
       "      <td>standard</td>\n",
       "      <td>0</td>\n",
       "      <td>76</td>\n",
       "      <td>78</td>\n",
       "      <td>75</td>\n",
       "    </tr>\n",
       "  </tbody>\n",
       "</table>\n",
       "</div>"
      ],
      "text/plain": [
       "   gender race/ethnicity parental level of education         lunch  \\\n",
       "0  female        group B           bachelor's degree      standard   \n",
       "1  female        group C                some college      standard   \n",
       "2  female        group B             master's degree      standard   \n",
       "3    male        group A          associate's degree  free/reduced   \n",
       "4    male        group C                some college      standard   \n",
       "\n",
       "  test preparation course  math score  reading score  success  \n",
       "0                       0          72             72       74  \n",
       "1                       1          69             90       88  \n",
       "2                       0          90             95       93  \n",
       "3                       0          47             57       44  \n",
       "4                       0          76             78       75  "
      ]
     },
     "execution_count": 27,
     "metadata": {},
     "output_type": "execute_result"
    }
   ],
   "source": [
    "df.head()"
   ]
  },
  {
   "cell_type": "code",
   "execution_count": 28,
   "id": "be446d91",
   "metadata": {},
   "outputs": [],
   "source": [
    "df['gender']=df.gender.replace('female','0').replace('male','1')"
   ]
  },
  {
   "cell_type": "code",
   "execution_count": 29,
   "id": "c2241c36",
   "metadata": {},
   "outputs": [
    {
     "data": {
      "text/html": [
       "<div>\n",
       "<style scoped>\n",
       "    .dataframe tbody tr th:only-of-type {\n",
       "        vertical-align: middle;\n",
       "    }\n",
       "\n",
       "    .dataframe tbody tr th {\n",
       "        vertical-align: top;\n",
       "    }\n",
       "\n",
       "    .dataframe thead th {\n",
       "        text-align: right;\n",
       "    }\n",
       "</style>\n",
       "<table border=\"1\" class=\"dataframe\">\n",
       "  <thead>\n",
       "    <tr style=\"text-align: right;\">\n",
       "      <th></th>\n",
       "      <th>gender</th>\n",
       "      <th>race/ethnicity</th>\n",
       "      <th>parental level of education</th>\n",
       "      <th>lunch</th>\n",
       "      <th>test preparation course</th>\n",
       "      <th>math score</th>\n",
       "      <th>reading score</th>\n",
       "      <th>success</th>\n",
       "    </tr>\n",
       "  </thead>\n",
       "  <tbody>\n",
       "    <tr>\n",
       "      <th>0</th>\n",
       "      <td>0</td>\n",
       "      <td>group B</td>\n",
       "      <td>bachelor's degree</td>\n",
       "      <td>standard</td>\n",
       "      <td>0</td>\n",
       "      <td>72</td>\n",
       "      <td>72</td>\n",
       "      <td>74</td>\n",
       "    </tr>\n",
       "    <tr>\n",
       "      <th>1</th>\n",
       "      <td>0</td>\n",
       "      <td>group C</td>\n",
       "      <td>some college</td>\n",
       "      <td>standard</td>\n",
       "      <td>1</td>\n",
       "      <td>69</td>\n",
       "      <td>90</td>\n",
       "      <td>88</td>\n",
       "    </tr>\n",
       "    <tr>\n",
       "      <th>2</th>\n",
       "      <td>0</td>\n",
       "      <td>group B</td>\n",
       "      <td>master's degree</td>\n",
       "      <td>standard</td>\n",
       "      <td>0</td>\n",
       "      <td>90</td>\n",
       "      <td>95</td>\n",
       "      <td>93</td>\n",
       "    </tr>\n",
       "    <tr>\n",
       "      <th>3</th>\n",
       "      <td>1</td>\n",
       "      <td>group A</td>\n",
       "      <td>associate's degree</td>\n",
       "      <td>free/reduced</td>\n",
       "      <td>0</td>\n",
       "      <td>47</td>\n",
       "      <td>57</td>\n",
       "      <td>44</td>\n",
       "    </tr>\n",
       "    <tr>\n",
       "      <th>4</th>\n",
       "      <td>1</td>\n",
       "      <td>group C</td>\n",
       "      <td>some college</td>\n",
       "      <td>standard</td>\n",
       "      <td>0</td>\n",
       "      <td>76</td>\n",
       "      <td>78</td>\n",
       "      <td>75</td>\n",
       "    </tr>\n",
       "  </tbody>\n",
       "</table>\n",
       "</div>"
      ],
      "text/plain": [
       "  gender race/ethnicity parental level of education         lunch  \\\n",
       "0      0        group B           bachelor's degree      standard   \n",
       "1      0        group C                some college      standard   \n",
       "2      0        group B             master's degree      standard   \n",
       "3      1        group A          associate's degree  free/reduced   \n",
       "4      1        group C                some college      standard   \n",
       "\n",
       "  test preparation course  math score  reading score  success  \n",
       "0                       0          72             72       74  \n",
       "1                       1          69             90       88  \n",
       "2                       0          90             95       93  \n",
       "3                       0          47             57       44  \n",
       "4                       0          76             78       75  "
      ]
     },
     "execution_count": 29,
     "metadata": {},
     "output_type": "execute_result"
    }
   ],
   "source": [
    "df.head()"
   ]
  },
  {
   "cell_type": "code",
   "execution_count": 30,
   "id": "90bad9fb",
   "metadata": {},
   "outputs": [],
   "source": [
    "df['lunch']=df['lunch'].replace('standard','0').replace('free/reduced','1')"
   ]
  },
  {
   "cell_type": "code",
   "execution_count": 31,
   "id": "e7dd5df2",
   "metadata": {},
   "outputs": [
    {
     "data": {
      "text/html": [
       "<div>\n",
       "<style scoped>\n",
       "    .dataframe tbody tr th:only-of-type {\n",
       "        vertical-align: middle;\n",
       "    }\n",
       "\n",
       "    .dataframe tbody tr th {\n",
       "        vertical-align: top;\n",
       "    }\n",
       "\n",
       "    .dataframe thead th {\n",
       "        text-align: right;\n",
       "    }\n",
       "</style>\n",
       "<table border=\"1\" class=\"dataframe\">\n",
       "  <thead>\n",
       "    <tr style=\"text-align: right;\">\n",
       "      <th></th>\n",
       "      <th>gender</th>\n",
       "      <th>race/ethnicity</th>\n",
       "      <th>parental level of education</th>\n",
       "      <th>lunch</th>\n",
       "      <th>test preparation course</th>\n",
       "      <th>math score</th>\n",
       "      <th>reading score</th>\n",
       "      <th>success</th>\n",
       "    </tr>\n",
       "  </thead>\n",
       "  <tbody>\n",
       "    <tr>\n",
       "      <th>0</th>\n",
       "      <td>0</td>\n",
       "      <td>group B</td>\n",
       "      <td>bachelor's degree</td>\n",
       "      <td>0</td>\n",
       "      <td>0</td>\n",
       "      <td>72</td>\n",
       "      <td>72</td>\n",
       "      <td>74</td>\n",
       "    </tr>\n",
       "    <tr>\n",
       "      <th>1</th>\n",
       "      <td>0</td>\n",
       "      <td>group C</td>\n",
       "      <td>some college</td>\n",
       "      <td>0</td>\n",
       "      <td>1</td>\n",
       "      <td>69</td>\n",
       "      <td>90</td>\n",
       "      <td>88</td>\n",
       "    </tr>\n",
       "    <tr>\n",
       "      <th>2</th>\n",
       "      <td>0</td>\n",
       "      <td>group B</td>\n",
       "      <td>master's degree</td>\n",
       "      <td>0</td>\n",
       "      <td>0</td>\n",
       "      <td>90</td>\n",
       "      <td>95</td>\n",
       "      <td>93</td>\n",
       "    </tr>\n",
       "    <tr>\n",
       "      <th>3</th>\n",
       "      <td>1</td>\n",
       "      <td>group A</td>\n",
       "      <td>associate's degree</td>\n",
       "      <td>1</td>\n",
       "      <td>0</td>\n",
       "      <td>47</td>\n",
       "      <td>57</td>\n",
       "      <td>44</td>\n",
       "    </tr>\n",
       "    <tr>\n",
       "      <th>4</th>\n",
       "      <td>1</td>\n",
       "      <td>group C</td>\n",
       "      <td>some college</td>\n",
       "      <td>0</td>\n",
       "      <td>0</td>\n",
       "      <td>76</td>\n",
       "      <td>78</td>\n",
       "      <td>75</td>\n",
       "    </tr>\n",
       "  </tbody>\n",
       "</table>\n",
       "</div>"
      ],
      "text/plain": [
       "  gender race/ethnicity parental level of education lunch  \\\n",
       "0      0        group B           bachelor's degree     0   \n",
       "1      0        group C                some college     0   \n",
       "2      0        group B             master's degree     0   \n",
       "3      1        group A          associate's degree     1   \n",
       "4      1        group C                some college     0   \n",
       "\n",
       "  test preparation course  math score  reading score  success  \n",
       "0                       0          72             72       74  \n",
       "1                       1          69             90       88  \n",
       "2                       0          90             95       93  \n",
       "3                       0          47             57       44  \n",
       "4                       0          76             78       75  "
      ]
     },
     "execution_count": 31,
     "metadata": {},
     "output_type": "execute_result"
    }
   ],
   "source": [
    "df.head()"
   ]
  },
  {
   "cell_type": "code",
   "execution_count": 32,
   "id": "f76d964d",
   "metadata": {},
   "outputs": [],
   "source": [
    "df['race/ethnicity'].replace({'group A':'1','group B':'2', 'group C':'3',\n",
    "                               'group D':'4','group E':'5'},inplace=True)"
   ]
  },
  {
   "cell_type": "code",
   "execution_count": 33,
   "id": "a41513d6",
   "metadata": {},
   "outputs": [
    {
     "data": {
      "text/html": [
       "<div>\n",
       "<style scoped>\n",
       "    .dataframe tbody tr th:only-of-type {\n",
       "        vertical-align: middle;\n",
       "    }\n",
       "\n",
       "    .dataframe tbody tr th {\n",
       "        vertical-align: top;\n",
       "    }\n",
       "\n",
       "    .dataframe thead th {\n",
       "        text-align: right;\n",
       "    }\n",
       "</style>\n",
       "<table border=\"1\" class=\"dataframe\">\n",
       "  <thead>\n",
       "    <tr style=\"text-align: right;\">\n",
       "      <th></th>\n",
       "      <th>gender</th>\n",
       "      <th>race/ethnicity</th>\n",
       "      <th>parental level of education</th>\n",
       "      <th>lunch</th>\n",
       "      <th>test preparation course</th>\n",
       "      <th>math score</th>\n",
       "      <th>reading score</th>\n",
       "      <th>success</th>\n",
       "    </tr>\n",
       "  </thead>\n",
       "  <tbody>\n",
       "    <tr>\n",
       "      <th>0</th>\n",
       "      <td>0</td>\n",
       "      <td>2</td>\n",
       "      <td>bachelor's degree</td>\n",
       "      <td>0</td>\n",
       "      <td>0</td>\n",
       "      <td>72</td>\n",
       "      <td>72</td>\n",
       "      <td>74</td>\n",
       "    </tr>\n",
       "    <tr>\n",
       "      <th>1</th>\n",
       "      <td>0</td>\n",
       "      <td>3</td>\n",
       "      <td>some college</td>\n",
       "      <td>0</td>\n",
       "      <td>1</td>\n",
       "      <td>69</td>\n",
       "      <td>90</td>\n",
       "      <td>88</td>\n",
       "    </tr>\n",
       "    <tr>\n",
       "      <th>2</th>\n",
       "      <td>0</td>\n",
       "      <td>2</td>\n",
       "      <td>master's degree</td>\n",
       "      <td>0</td>\n",
       "      <td>0</td>\n",
       "      <td>90</td>\n",
       "      <td>95</td>\n",
       "      <td>93</td>\n",
       "    </tr>\n",
       "    <tr>\n",
       "      <th>3</th>\n",
       "      <td>1</td>\n",
       "      <td>1</td>\n",
       "      <td>associate's degree</td>\n",
       "      <td>1</td>\n",
       "      <td>0</td>\n",
       "      <td>47</td>\n",
       "      <td>57</td>\n",
       "      <td>44</td>\n",
       "    </tr>\n",
       "    <tr>\n",
       "      <th>4</th>\n",
       "      <td>1</td>\n",
       "      <td>3</td>\n",
       "      <td>some college</td>\n",
       "      <td>0</td>\n",
       "      <td>0</td>\n",
       "      <td>76</td>\n",
       "      <td>78</td>\n",
       "      <td>75</td>\n",
       "    </tr>\n",
       "  </tbody>\n",
       "</table>\n",
       "</div>"
      ],
      "text/plain": [
       "  gender race/ethnicity parental level of education lunch  \\\n",
       "0      0              2           bachelor's degree     0   \n",
       "1      0              3                some college     0   \n",
       "2      0              2             master's degree     0   \n",
       "3      1              1          associate's degree     1   \n",
       "4      1              3                some college     0   \n",
       "\n",
       "  test preparation course  math score  reading score  success  \n",
       "0                       0          72             72       74  \n",
       "1                       1          69             90       88  \n",
       "2                       0          90             95       93  \n",
       "3                       0          47             57       44  \n",
       "4                       0          76             78       75  "
      ]
     },
     "execution_count": 33,
     "metadata": {},
     "output_type": "execute_result"
    }
   ],
   "source": [
    "df.head()"
   ]
  },
  {
   "cell_type": "code",
   "execution_count": 34,
   "id": "8a19eed5",
   "metadata": {},
   "outputs": [],
   "source": [
    "df['parental level of education'].replace({'some high school':'1','high school':'1',\"associate's degree\":'2',\n",
    "                                        'some college':'3',\"bachelor's degree\":'4',\"master's degree\":'5'},inplace=True)"
   ]
  },
  {
   "cell_type": "code",
   "execution_count": 35,
   "id": "05aeac6d",
   "metadata": {},
   "outputs": [
    {
     "data": {
      "text/html": [
       "<div>\n",
       "<style scoped>\n",
       "    .dataframe tbody tr th:only-of-type {\n",
       "        vertical-align: middle;\n",
       "    }\n",
       "\n",
       "    .dataframe tbody tr th {\n",
       "        vertical-align: top;\n",
       "    }\n",
       "\n",
       "    .dataframe thead th {\n",
       "        text-align: right;\n",
       "    }\n",
       "</style>\n",
       "<table border=\"1\" class=\"dataframe\">\n",
       "  <thead>\n",
       "    <tr style=\"text-align: right;\">\n",
       "      <th></th>\n",
       "      <th>gender</th>\n",
       "      <th>race/ethnicity</th>\n",
       "      <th>parental level of education</th>\n",
       "      <th>lunch</th>\n",
       "      <th>test preparation course</th>\n",
       "      <th>math score</th>\n",
       "      <th>reading score</th>\n",
       "      <th>success</th>\n",
       "    </tr>\n",
       "  </thead>\n",
       "  <tbody>\n",
       "    <tr>\n",
       "      <th>0</th>\n",
       "      <td>0</td>\n",
       "      <td>2</td>\n",
       "      <td>4</td>\n",
       "      <td>0</td>\n",
       "      <td>0</td>\n",
       "      <td>72</td>\n",
       "      <td>72</td>\n",
       "      <td>74</td>\n",
       "    </tr>\n",
       "    <tr>\n",
       "      <th>1</th>\n",
       "      <td>0</td>\n",
       "      <td>3</td>\n",
       "      <td>3</td>\n",
       "      <td>0</td>\n",
       "      <td>1</td>\n",
       "      <td>69</td>\n",
       "      <td>90</td>\n",
       "      <td>88</td>\n",
       "    </tr>\n",
       "    <tr>\n",
       "      <th>2</th>\n",
       "      <td>0</td>\n",
       "      <td>2</td>\n",
       "      <td>5</td>\n",
       "      <td>0</td>\n",
       "      <td>0</td>\n",
       "      <td>90</td>\n",
       "      <td>95</td>\n",
       "      <td>93</td>\n",
       "    </tr>\n",
       "    <tr>\n",
       "      <th>3</th>\n",
       "      <td>1</td>\n",
       "      <td>1</td>\n",
       "      <td>2</td>\n",
       "      <td>1</td>\n",
       "      <td>0</td>\n",
       "      <td>47</td>\n",
       "      <td>57</td>\n",
       "      <td>44</td>\n",
       "    </tr>\n",
       "    <tr>\n",
       "      <th>4</th>\n",
       "      <td>1</td>\n",
       "      <td>3</td>\n",
       "      <td>3</td>\n",
       "      <td>0</td>\n",
       "      <td>0</td>\n",
       "      <td>76</td>\n",
       "      <td>78</td>\n",
       "      <td>75</td>\n",
       "    </tr>\n",
       "  </tbody>\n",
       "</table>\n",
       "</div>"
      ],
      "text/plain": [
       "  gender race/ethnicity parental level of education lunch  \\\n",
       "0      0              2                           4     0   \n",
       "1      0              3                           3     0   \n",
       "2      0              2                           5     0   \n",
       "3      1              1                           2     1   \n",
       "4      1              3                           3     0   \n",
       "\n",
       "  test preparation course  math score  reading score  success  \n",
       "0                       0          72             72       74  \n",
       "1                       1          69             90       88  \n",
       "2                       0          90             95       93  \n",
       "3                       0          47             57       44  \n",
       "4                       0          76             78       75  "
      ]
     },
     "execution_count": 35,
     "metadata": {},
     "output_type": "execute_result"
    }
   ],
   "source": [
    "df.head()"
   ]
  },
  {
   "cell_type": "code",
   "execution_count": 36,
   "id": "ad47367c",
   "metadata": {},
   "outputs": [],
   "source": [
    "y=df.success"
   ]
  },
  {
   "cell_type": "code",
   "execution_count": 37,
   "id": "8830f02b",
   "metadata": {},
   "outputs": [
    {
     "data": {
      "text/plain": [
       "0      74\n",
       "1      88\n",
       "2      93\n",
       "3      44\n",
       "4      75\n",
       "       ..\n",
       "995    95\n",
       "996    55\n",
       "997    65\n",
       "998    77\n",
       "999    86\n",
       "Name: success, Length: 1000, dtype: int64"
      ]
     },
     "execution_count": 37,
     "metadata": {},
     "output_type": "execute_result"
    }
   ],
   "source": [
    "y"
   ]
  },
  {
   "cell_type": "code",
   "execution_count": 38,
   "id": "cac82bee",
   "metadata": {},
   "outputs": [],
   "source": [
    "x=df.drop('success',axis='columns')"
   ]
  },
  {
   "cell_type": "code",
   "execution_count": 39,
   "id": "38fff490",
   "metadata": {},
   "outputs": [
    {
     "data": {
      "text/html": [
       "<div>\n",
       "<style scoped>\n",
       "    .dataframe tbody tr th:only-of-type {\n",
       "        vertical-align: middle;\n",
       "    }\n",
       "\n",
       "    .dataframe tbody tr th {\n",
       "        vertical-align: top;\n",
       "    }\n",
       "\n",
       "    .dataframe thead th {\n",
       "        text-align: right;\n",
       "    }\n",
       "</style>\n",
       "<table border=\"1\" class=\"dataframe\">\n",
       "  <thead>\n",
       "    <tr style=\"text-align: right;\">\n",
       "      <th></th>\n",
       "      <th>gender</th>\n",
       "      <th>race/ethnicity</th>\n",
       "      <th>parental level of education</th>\n",
       "      <th>lunch</th>\n",
       "      <th>test preparation course</th>\n",
       "      <th>math score</th>\n",
       "      <th>reading score</th>\n",
       "    </tr>\n",
       "  </thead>\n",
       "  <tbody>\n",
       "    <tr>\n",
       "      <th>0</th>\n",
       "      <td>0</td>\n",
       "      <td>2</td>\n",
       "      <td>4</td>\n",
       "      <td>0</td>\n",
       "      <td>0</td>\n",
       "      <td>72</td>\n",
       "      <td>72</td>\n",
       "    </tr>\n",
       "    <tr>\n",
       "      <th>1</th>\n",
       "      <td>0</td>\n",
       "      <td>3</td>\n",
       "      <td>3</td>\n",
       "      <td>0</td>\n",
       "      <td>1</td>\n",
       "      <td>69</td>\n",
       "      <td>90</td>\n",
       "    </tr>\n",
       "    <tr>\n",
       "      <th>2</th>\n",
       "      <td>0</td>\n",
       "      <td>2</td>\n",
       "      <td>5</td>\n",
       "      <td>0</td>\n",
       "      <td>0</td>\n",
       "      <td>90</td>\n",
       "      <td>95</td>\n",
       "    </tr>\n",
       "    <tr>\n",
       "      <th>3</th>\n",
       "      <td>1</td>\n",
       "      <td>1</td>\n",
       "      <td>2</td>\n",
       "      <td>1</td>\n",
       "      <td>0</td>\n",
       "      <td>47</td>\n",
       "      <td>57</td>\n",
       "    </tr>\n",
       "    <tr>\n",
       "      <th>4</th>\n",
       "      <td>1</td>\n",
       "      <td>3</td>\n",
       "      <td>3</td>\n",
       "      <td>0</td>\n",
       "      <td>0</td>\n",
       "      <td>76</td>\n",
       "      <td>78</td>\n",
       "    </tr>\n",
       "    <tr>\n",
       "      <th>...</th>\n",
       "      <td>...</td>\n",
       "      <td>...</td>\n",
       "      <td>...</td>\n",
       "      <td>...</td>\n",
       "      <td>...</td>\n",
       "      <td>...</td>\n",
       "      <td>...</td>\n",
       "    </tr>\n",
       "    <tr>\n",
       "      <th>995</th>\n",
       "      <td>0</td>\n",
       "      <td>5</td>\n",
       "      <td>5</td>\n",
       "      <td>0</td>\n",
       "      <td>1</td>\n",
       "      <td>88</td>\n",
       "      <td>99</td>\n",
       "    </tr>\n",
       "    <tr>\n",
       "      <th>996</th>\n",
       "      <td>1</td>\n",
       "      <td>3</td>\n",
       "      <td>1</td>\n",
       "      <td>1</td>\n",
       "      <td>0</td>\n",
       "      <td>62</td>\n",
       "      <td>55</td>\n",
       "    </tr>\n",
       "    <tr>\n",
       "      <th>997</th>\n",
       "      <td>0</td>\n",
       "      <td>3</td>\n",
       "      <td>1</td>\n",
       "      <td>1</td>\n",
       "      <td>1</td>\n",
       "      <td>59</td>\n",
       "      <td>71</td>\n",
       "    </tr>\n",
       "    <tr>\n",
       "      <th>998</th>\n",
       "      <td>0</td>\n",
       "      <td>4</td>\n",
       "      <td>3</td>\n",
       "      <td>0</td>\n",
       "      <td>1</td>\n",
       "      <td>68</td>\n",
       "      <td>78</td>\n",
       "    </tr>\n",
       "    <tr>\n",
       "      <th>999</th>\n",
       "      <td>0</td>\n",
       "      <td>4</td>\n",
       "      <td>3</td>\n",
       "      <td>1</td>\n",
       "      <td>0</td>\n",
       "      <td>77</td>\n",
       "      <td>86</td>\n",
       "    </tr>\n",
       "  </tbody>\n",
       "</table>\n",
       "<p>1000 rows × 7 columns</p>\n",
       "</div>"
      ],
      "text/plain": [
       "    gender race/ethnicity parental level of education lunch  \\\n",
       "0        0              2                           4     0   \n",
       "1        0              3                           3     0   \n",
       "2        0              2                           5     0   \n",
       "3        1              1                           2     1   \n",
       "4        1              3                           3     0   \n",
       "..     ...            ...                         ...   ...   \n",
       "995      0              5                           5     0   \n",
       "996      1              3                           1     1   \n",
       "997      0              3                           1     1   \n",
       "998      0              4                           3     0   \n",
       "999      0              4                           3     1   \n",
       "\n",
       "    test preparation course  math score  reading score  \n",
       "0                         0          72             72  \n",
       "1                         1          69             90  \n",
       "2                         0          90             95  \n",
       "3                         0          47             57  \n",
       "4                         0          76             78  \n",
       "..                      ...         ...            ...  \n",
       "995                       1          88             99  \n",
       "996                       0          62             55  \n",
       "997                       1          59             71  \n",
       "998                       1          68             78  \n",
       "999                       0          77             86  \n",
       "\n",
       "[1000 rows x 7 columns]"
      ]
     },
     "execution_count": 39,
     "metadata": {},
     "output_type": "execute_result"
    }
   ],
   "source": [
    "x"
   ]
  },
  {
   "cell_type": "code",
   "execution_count": 40,
   "id": "ac332d7b",
   "metadata": {},
   "outputs": [
    {
     "data": {
      "image/png": "[encoded data removed]",
      "text/plain": [
       "<Figure size 432x288 with 1 Axes>"
      ]
     },
     "metadata": {
      "needs_background": "light"
     },
     "output_type": "display_data"
    }
   ],
   "source": [
    "plt.figure()\n",
    "plt.scatter(x['gender'],y,c='r')\n",
    "plt.show()"
   ]
  },
  {
   "cell_type": "code",
   "execution_count": 41,
   "id": "62ef1888",
   "metadata": {},
   "outputs": [
    {
     "data": {
      "image/png": "[encoded data removed]",
      "text/plain": [
       "<Figure size 432x288 with 1 Axes>"
      ]
     },
     "metadata": {
      "needs_background": "light"
     },
     "output_type": "display_data"
    }
   ],
   "source": [
    "plt.figure()\n",
    "plt.scatter(x['race/ethnicity'],y,c='g')\n",
    "plt.show()"
   ]
  },
  {
   "cell_type": "code",
   "execution_count": 42,
   "id": "7610dc9a",
   "metadata": {},
   "outputs": [
    {
     "data": {
      "image/png": "[encoded data removed]",
      "text/plain": [
       "<Figure size 432x288 with 1 Axes>"
      ]
     },
     "metadata": {
      "needs_background": "light"
     },
     "output_type": "display_data"
    }
   ],
   "source": [
    "plt.figure()\n",
    "plt.scatter(x['parental level of education'],y)\n",
    "plt.show()"
   ]
  },
  {
   "cell_type": "code",
   "execution_count": 43,
   "id": "b0f55aaa",
   "metadata": {},
   "outputs": [
    {
     "data": {
      "image/png": "[encoded data removed]",
      "text/plain": [
       "<Figure size 432x288 with 1 Axes>"
      ]
     },
     "metadata": {
      "needs_background": "light"
     },
     "output_type": "display_data"
    }
   ],
   "source": [
    "plt.figure()\n",
    "plt.scatter(x['lunch'],y,c='c')\n",
    "plt.show()"
   ]
  },
  {
   "cell_type": "code",
   "execution_count": 44,
   "id": "5c675e27",
   "metadata": {},
   "outputs": [
    {
     "data": {
      "image/png": "[encoded data removed]",
      "text/plain": [
       "<Figure size 432x288 with 1 Axes>"
      ]
     },
     "metadata": {
      "needs_background": "light"
     },
     "output_type": "display_data"
    }
   ],
   "source": [
    "plt.figure()\n",
    "plt.scatter(x['test preparation course'],y,c='r')\n",
    "plt.show()"
   ]
  },
  {
   "cell_type": "code",
   "execution_count": 45,
   "id": "542aa7a0",
   "metadata": {},
   "outputs": [
    {
     "data": {
      "image/png": "[encoded data removed]",
      "text/plain": [
       "<Figure size 432x288 with 1 Axes>"
      ]
     },
     "metadata": {
      "needs_background": "light"
     },
     "output_type": "display_data"
    }
   ],
   "source": [
    "plt.figure()\n",
    "plt.scatter(x['math score'],y,c='r')\n",
    "plt.show()"
   ]
  },
  {
   "cell_type": "code",
   "execution_count": 46,
   "id": "55450e9d",
   "metadata": {},
   "outputs": [
    {
     "data": {
      "image/png": "[encoded data removed]",
      "text/plain": [
       "<Figure size 432x288 with 1 Axes>"
      ]
     },
     "metadata": {
      "needs_background": "light"
     },
     "output_type": "display_data"
    }
   ],
   "source": [
    "plt.figure()\n",
    "plt.scatter(x['reading score'],y,c='r')\n",
    "plt.show()"
   ]
  },
  {
   "cell_type": "code",
   "execution_count": 47,
   "id": "a983d198",
   "metadata": {},
   "outputs": [
    {
     "data": {
      "text/plain": [
       "((800, 7), (200, 7), (800,), (200,))"
      ]
     },
     "execution_count": 47,
     "metadata": {},
     "output_type": "execute_result"
    }
   ],
   "source": [
    "X_train,X_test,Y_train,Y_test=train_test_split(x,y,test_size=0.2)\n",
    "X_train.shape,X_test.shape,Y_train.shape,Y_test.shape"
   ]
  },
  {
   "cell_type": "code",
   "execution_count": 48,
   "id": "514b602a",
   "metadata": {},
   "outputs": [],
   "source": [
    "#linear regression "
   ]
  },
  {
   "cell_type": "code",
   "execution_count": 49,
   "id": "75ae9d23",
   "metadata": {},
   "outputs": [
    {
     "data": {
      "text/plain": [
       "LinearRegression()"
      ]
     },
     "execution_count": 49,
     "metadata": {},
     "output_type": "execute_result"
    }
   ],
   "source": [
    "model1=LinearRegression()\n",
    "model1.fit(X_train,Y_train)"
   ]
  },
  {
   "cell_type": "code",
   "execution_count": 50,
   "id": "5c23d698",
   "metadata": {},
   "outputs": [
    {
     "data": {
      "text/plain": [
       "0.9437856395653766"
      ]
     },
     "execution_count": 50,
     "metadata": {},
     "output_type": "execute_result"
    }
   ],
   "source": [
    "model1.score(X_train,Y_train)"
   ]
  },
  {
   "cell_type": "code",
   "execution_count": 51,
   "id": "f302bd71",
   "metadata": {},
   "outputs": [
    {
     "data": {
      "text/plain": [
       "0.9413423239556798"
      ]
     },
     "execution_count": 51,
     "metadata": {},
     "output_type": "execute_result"
    }
   ],
   "source": [
    "model1.score(X_test,Y_test)"
   ]
  },
  {
   "cell_type": "code",
   "execution_count": 52,
   "id": "5c5af078",
   "metadata": {},
   "outputs": [
    {
     "data": {
      "text/plain": [
       "array([58.86563858, 84.34664549, 70.64432374, 58.13146924, 41.57561022,\n",
       "       58.9785452 , 34.72274926, 64.57256548, 81.40102509, 59.15082912,\n",
       "       75.14172611, 53.63857079, 67.35781465, 71.69766042, 88.97022386,\n",
       "       22.96877939, 44.44276224, 84.0795875 , 87.1850875 , 59.76983323,\n",
       "       64.12706187, 77.12902178, 28.5542922 , 67.06455723, 45.92743554,\n",
       "       58.92304448, 71.46413242, 47.24622594, 74.31960963, 43.37259501,\n",
       "       89.00561617, 65.7726435 , 87.49094677, 51.47602521, 65.56017814,\n",
       "       53.5747829 , 51.90059686, 61.22171634, 57.17113958, 96.56671711,\n",
       "       53.43648715, 66.42226653, 42.73453684, 79.5296265 , 44.84064284,\n",
       "       59.66646733, 84.61788932, 73.85383983, 64.02656402, 52.32669507,\n",
       "       87.82020359, 65.81919112, 48.5315173 , 40.94921121, 70.16911828,\n",
       "       60.2118698 , 63.92603086, 73.27880413, 48.9114547 , 63.23828226,\n",
       "       75.71669496, 67.25407006, 65.59787816, 88.49497164, 93.32511377,\n",
       "       59.75596049, 57.98493298, 48.20364445, 68.77658162, 76.9327951 ,\n",
       "       75.6994705 , 71.12363061, 74.24112536, 48.502964  , 51.61250726,\n",
       "       91.17902004, 52.35456562, 41.36566922, 74.05301233, 38.72032245,\n",
       "       59.94216835, 53.26039608, 78.64260956, 69.26347709, 44.99474753,\n",
       "       66.4913043 , 85.51231698, 66.00563507, 64.28797829, 90.65483845,\n",
       "       57.77574165, 70.43414227, 55.44341294, 89.35114322, 86.620934  ,\n",
       "       63.57525012, 77.42956689, 75.60402881, 97.74015075, 52.37179008,\n",
       "       87.84149843, 83.37521344, 68.92066748, 89.03502466, 73.3161723 ,\n",
       "       61.27487832, 74.53887099, 92.84154708, 80.35446041, 60.7194101 ,\n",
       "       74.4383221 , 57.78290053, 16.01031329, 72.91999623, 83.91660367,\n",
       "       66.27668948, 58.82967021, 93.23196406, 46.39417159, 43.57514112,\n",
       "       77.06434169, 77.42956689, 54.59250706, 78.96894011, 89.22352449,\n",
       "       82.92880174, 48.90976598, 87.58127938, 73.42979321, 56.51765064,\n",
       "       58.87934926, 81.85888634, 90.14364168, 86.72066636, 55.03603482,\n",
       "       80.48109717, 65.47704734, 83.51854962, 66.95702736, 63.55231331,\n",
       "       66.56225099, 79.69938242, 57.43663953, 73.76856338, 55.8877415 ,\n",
       "       71.49429068, 66.13791545, 89.35384492, 56.5551614 , 96.76044665,\n",
       "       64.78078692, 49.8592689 , 68.28008131, 43.32926259, 59.81417864,\n",
       "       78.04805743, 53.46823881, 64.84731173, 86.54014193, 27.9029217 ,\n",
       "       78.79069957, 57.86192984, 87.33645528, 55.39413208, 54.08326223,\n",
       "       62.31657602, 62.47802886, 74.68408516, 60.38550684, 58.8418385 ,\n",
       "       71.47129131, 79.26728901, 63.75429909, 49.4447471 , 60.53555688,\n",
       "       81.80296025, 51.27340515, 57.94607363, 81.82230316, 55.96636828,\n",
       "       77.4269877 , 71.5363501 , 98.59587678, 77.28894814, 84.98519767,\n",
       "       76.04231113, 65.26004703, 42.71322618, 67.00577875, 55.0252505 ,\n",
       "       81.72312295, 76.6897847 , 83.08565541, 52.88744403, 73.68348064,\n",
       "       48.47630381, 66.76351811, 62.75569763, 63.42138589, 69.47673897])"
      ]
     },
     "execution_count": 52,
     "metadata": {},
     "output_type": "execute_result"
    }
   ],
   "source": [
    "y_pred=model1.predict(X_test)\n",
    "y_pred"
   ]
  },
  {
   "cell_type": "code",
   "execution_count": 53,
   "id": "0ec33198",
   "metadata": {},
   "outputs": [
    {
     "data": {
      "text/plain": [
       "937    57\n",
       "606    82\n",
       "720    70\n",
       "816    64\n",
       "131    40\n",
       "       ..\n",
       "627    46\n",
       "547    64\n",
       "579    68\n",
       "588    65\n",
       "668    61\n",
       "Name: success, Length: 200, dtype: int64"
      ]
     },
     "execution_count": 53,
     "metadata": {},
     "output_type": "execute_result"
    }
   ],
   "source": [
    "Y_test"
   ]
  },
  {
   "cell_type": "code",
   "execution_count": 54,
   "id": "60c05867",
   "metadata": {},
   "outputs": [],
   "source": [
    "#Lasso"
   ]
  },
  {
   "cell_type": "code",
   "execution_count": 55,
   "id": "2ae03112",
   "metadata": {},
   "outputs": [
    {
     "data": {
      "text/plain": [
       "Lasso()"
      ]
     },
     "execution_count": 55,
     "metadata": {},
     "output_type": "execute_result"
    }
   ],
   "source": [
    "from sklearn import linear_model\n",
    "lasso_reg = linear_model.Lasso()\n",
    "lasso_reg.fit(X_train,Y_train)"
   ]
  },
  {
   "cell_type": "code",
   "execution_count": 56,
   "id": "24ecff54",
   "metadata": {},
   "outputs": [
    {
     "data": {
      "text/plain": [
       "0.9110992198598599"
      ]
     },
     "execution_count": 56,
     "metadata": {},
     "output_type": "execute_result"
    }
   ],
   "source": [
    "lasso_reg.score(X_train,Y_train)"
   ]
  },
  {
   "cell_type": "code",
   "execution_count": 57,
   "id": "e311104b",
   "metadata": {},
   "outputs": [
    {
     "data": {
      "text/plain": [
       "0.9172216183118159"
      ]
     },
     "execution_count": 57,
     "metadata": {},
     "output_type": "execute_result"
    }
   ],
   "source": [
    "lasso_reg.score(X_test,Y_test)"
   ]
  },
  {
   "cell_type": "code",
   "execution_count": 58,
   "id": "7679a2c9",
   "metadata": {},
   "outputs": [
    {
     "data": {
      "text/plain": [
       "array([57.10447394, 82.97510295, 70.43396821, 57.3393357 , 37.38334942,\n",
       "       60.99317884, 32.98210583, 64.13729265, 84.86638784, 59.68086951,\n",
       "       74.4543629 , 52.83492014, 66.76175752, 71.39386957, 87.11296696,\n",
       "       23.89661068, 44.81960856, 83.81457184, 82.61973183, 54.72612814,\n",
       "       64.11181486, 73.93048999, 27.95374047, 66.44623844, 44.05376366,\n",
       "       56.82976015, 68.95323399, 43.8597072 , 75.04052558, 47.08463212,\n",
       "       88.02183586, 66.39512908, 85.99886118, 53.47618548, 69.29023756,\n",
       "       50.25844769, 54.40342193, 64.2986842 , 54.57599391, 94.86067499,\n",
       "       50.8190557 , 62.09595041, 41.88776498, 75.61239091, 49.80405169,\n",
       "       63.29079042, 84.47420473, 73.29633489, 62.97934153, 53.02178948,\n",
       "       87.83496652, 62.26859928, 46.50557967, 42.52910721, 71.72368602,\n",
       "       59.65539173, 65.6619491 , 72.86741667, 49.18826413, 60.9747344 ,\n",
       "       76.04841936, 71.20700023, 62.95378685, 85.33915139, 97.93546568,\n",
       "       57.07891927, 56.30174016, 44.31003301, 65.53018241, 73.40254689,\n",
       "       74.74033401, 71.46741667, 72.72446956, 52.62249613, 55.71565437,\n",
       "       91.23238653, 53.32612814, 42.65368677, 72.99918335, 40.55005476,\n",
       "       61.24233796, 53.91221393, 76.2352887 , 66.00302286, 48.26102768,\n",
       "       65.54862686, 89.05520742, 72.50086512, 62.97934153, 89.26044431,\n",
       "       60.23436728, 73.01036378, 55.25000105, 89.08483229, 87.25591407,\n",
       "       58.28079261, 78.43802248, 74.85365625, 97.99056833, 54.63421349,\n",
       "       85.65771052, 82.6126216 , 67.622634  , 86.64723675, 73.61497091,\n",
       "       69.89891488, 75.30094202, 91.13336165, 77.7088358 , 59.7176815 ,\n",
       "       80.72852383, 62.11439486, 15.53726219, 74.35533802, 80.49773227,\n",
       "       64.74596997, 61.3923953 , 93.54844255, 47.83210946, 42.0053112 ,\n",
       "       80.88983849, 78.43802248, 57.77544105, 81.5934705 , 86.31031007,\n",
       "       80.47936472, 48.85837079, 87.27428162, 73.73236334, 57.63952728,\n",
       "       60.25281173, 86.06826119, 84.8479434 , 84.33118072, 57.96223349,\n",
       "       81.19417715, 67.51642199, 86.0427834 , 64.22928419, 63.19168865,\n",
       "       61.86523574, 80.87147094, 59.64413441, 73.26671002, 55.67891927,\n",
       "       74.3808158 , 67.00684645, 94.5124141 , 56.43765393, 93.37994077,\n",
       "       67.11712864, 50.41983924, 68.99715622, 42.98350321, 63.92494553,\n",
       "       78.99863049, 52.77263037, 63.16621086, 84.04528651, 28.9065316 ,\n",
       "       80.98886337, 53.42515302, 87.60409807, 51.29900637, 51.98834103,\n",
       "       62.53620284, 57.73862905, 73.9264198 , 66.56370776, 61.45468508,\n",
       "       70.83326156, 79.33970426, 60.56418373, 51.66563481, 65.76105087,\n",
       "       80.97057271, 55.12542149, 60.29665706, 80.16791582, 49.79686456,\n",
       "       77.1808927 , 67.99333263, 98.7819679 , 77.69046825, 83.72672738,\n",
       "       78.92923048, 65.08704373, 38.67010408, 62.05202819, 57.5405024 ,\n",
       "       76.68257447, 70.93228644, 84.26889094, 55.49916016, 72.86749356,\n",
       "       48.09963613, 66.38394866, 59.71049438, 62.5177584 , 72.97362868])"
      ]
     },
     "execution_count": 58,
     "metadata": {},
     "output_type": "execute_result"
    }
   ],
   "source": [
    "y_pred=lasso_reg.predict(X_test)\n",
    "y_pred"
   ]
  },
  {
   "cell_type": "code",
   "execution_count": 59,
   "id": "79bbabb6",
   "metadata": {},
   "outputs": [
    {
     "data": {
      "text/plain": [
       "Ridge(alpha=50, max_iter=100, tol=0.1)"
      ]
     },
     "execution_count": 59,
     "metadata": {},
     "output_type": "execute_result"
    }
   ],
   "source": [
    "#Ridge\n",
    "from sklearn.linear_model import Ridge\n",
    "ridge_reg= Ridge(alpha=50, max_iter=100, tol=0.1)\n",
    "ridge_reg.fit(X_train,Y_train)"
   ]
  },
  {
   "cell_type": "code",
   "execution_count": 60,
   "id": "c7269603",
   "metadata": {},
   "outputs": [
    {
     "data": {
      "text/plain": [
       "0.9409740170477078"
      ]
     },
     "execution_count": 60,
     "metadata": {},
     "output_type": "execute_result"
    }
   ],
   "source": [
    "ridge_reg.score(X_train,Y_train)"
   ]
  },
  {
   "cell_type": "code",
   "execution_count": 61,
   "id": "f7b8b378",
   "metadata": {},
   "outputs": [
    {
     "data": {
      "text/plain": [
       "0.939952995756177"
      ]
     },
     "execution_count": 61,
     "metadata": {},
     "output_type": "execute_result"
    }
   ],
   "source": [
    "ridge_reg.score(X_test,Y_test)"
   ]
  },
  {
   "cell_type": "code",
   "execution_count": 62,
   "id": "613ceb08",
   "metadata": {},
   "outputs": [
    {
     "data": {
      "text/plain": [
       "array([58.08926825, 83.67139757, 70.53027953, 58.05009294, 40.13337416,\n",
       "       59.52289095, 34.02215022, 64.36417131, 81.95457733, 59.63820345,\n",
       "       75.16412895, 53.126352  , 67.78438999, 71.50522374, 88.35885236,\n",
       "       23.00218508, 44.77378953, 83.8381729 , 86.00428158, 58.28556338,\n",
       "       64.19296148, 76.56434877, 28.5381682 , 66.85840051, 45.20204629,\n",
       "       58.38327041, 70.89128667, 46.74816374, 74.65342271, 44.54261973,\n",
       "       88.52202444, 66.46158488, 87.01406479, 52.11541265, 66.44901277,\n",
       "       52.6455557 , 52.57389974, 62.02610897, 56.9453935 , 96.29432036,\n",
       "       52.6540839 , 65.40638052, 42.84026046, 78.31873578, 46.2921987 ,\n",
       "       60.49862253, 84.46655698, 73.93942624, 63.29841313, 52.51008128,\n",
       "       87.45260802, 64.93558134, 47.99436846, 41.51819918, 70.52787251,\n",
       "       59.84631595, 64.35314577, 73.65591592, 48.84181373, 62.47655356,\n",
       "       75.91851182, 68.24350586, 65.02017781, 87.49146322, 94.86162653,\n",
       "       58.8161718 , 57.50517138, 46.85375518, 68.29134801, 75.84519427,\n",
       "       75.52176927, 70.9891837 , 73.88970444, 50.18766217, 53.13594107,\n",
       "       91.3529695 , 52.39402496, 41.73464987, 73.41258633, 39.15769088,\n",
       "       60.13890829, 53.33077996, 77.65420108, 68.55860803, 45.90407467,\n",
       "       66.29090875, 86.70896401, 67.8324966 , 63.66464502, 90.57750058,\n",
       "       58.63559327, 71.42603233, 55.46205375, 89.73239371, 86.78215116,\n",
       "       62.1618157 , 77.40636391, 75.19041204, 98.23938201, 52.79076751,\n",
       "       87.30921675, 83.2829029 , 68.50680596, 88.62066957, 73.07982594,\n",
       "       63.76110559, 74.65745125, 92.15640342, 79.98800921, 60.33304978,\n",
       "       75.84383275, 58.77093569, 15.77244537, 72.93896306, 82.84505707,\n",
       "       65.84120323, 59.57334547, 93.06991111, 46.5737877 , 42.97352896,\n",
       "       78.4518979 , 77.40636391, 55.23491249, 79.78431873, 88.48304786,\n",
       "       81.79272509, 49.07432473, 87.75520175, 73.91461969, 56.89479588,\n",
       "       59.01057142, 83.00408522, 88.69385672, 86.53749605, 56.14538439,\n",
       "       80.71125898, 66.13097148, 83.96921468, 66.1399231 , 63.40270009,\n",
       "       65.16534132, 80.06193384, 57.8997714 , 73.76148041, 55.56244812,\n",
       "       72.26078411, 66.281033  , 91.02260977, 56.4984704 , 95.81902914,\n",
       "       65.81773788, 49.8374269 , 68.43233226, 43.23655062, 61.11435955,\n",
       "       78.43430641, 53.03040324, 63.89776309, 85.86873379, 27.92807301,\n",
       "       80.02388138, 56.89077369, 88.01692864, 54.2194328 , 53.37063236,\n",
       "       62.39026695, 61.10497585, 74.07874255, 62.08188968, 59.4068969 ,\n",
       "       71.02662908, 79.32421834, 63.34920977, 49.7719888 , 62.10225062,\n",
       "       81.32279539, 52.40011919, 58.73154203, 81.16004038, 54.42867479,\n",
       "       77.29621706, 70.89302323, 99.19724178, 77.87861933, 84.81080641,\n",
       "       76.57020231, 65.41165993, 41.37359444, 66.07581322, 55.60976291,\n",
       "       80.516072  , 75.07786453, 84.04157671, 53.51953774, 73.42407537,\n",
       "       48.42525296, 66.5793358 , 62.37468264, 63.25546266, 70.70701457])"
      ]
     },
     "execution_count": 62,
     "metadata": {},
     "output_type": "execute_result"
    }
   ],
   "source": [
    "y_pred=ridge_reg.predict(X_test)\n",
    "y_pred"
   ]
  },
  {
   "cell_type": "code",
   "execution_count": 63,
   "id": "a5e456cf",
   "metadata": {},
   "outputs": [],
   "source": [
    "##Decision Tree Regression"
   ]
  },
  {
   "cell_type": "code",
   "execution_count": 65,
   "id": "d1f66d21",
   "metadata": {},
   "outputs": [
    {
     "data": {
      "text/plain": [
       "DecisionTreeRegressor(random_state=0)"
      ]
     },
     "execution_count": 65,
     "metadata": {},
     "output_type": "execute_result"
    }
   ],
   "source": [
    "\n",
    "from sklearn.tree import DecisionTreeRegressor \n",
    "regressor = DecisionTreeRegressor(random_state = 0) \n",
    "regressor.fit(X_train,Y_train)"
   ]
  },
  {
   "cell_type": "code",
   "execution_count": 66,
   "id": "7164a1a0",
   "metadata": {},
   "outputs": [
    {
     "data": {
      "text/plain": [
       "0.9994427501349616"
      ]
     },
     "execution_count": 66,
     "metadata": {},
     "output_type": "execute_result"
    }
   ],
   "source": [
    "regressor.score(X_train,Y_train)"
   ]
  },
  {
   "cell_type": "code",
   "execution_count": 67,
   "id": "54a24138",
   "metadata": {},
   "outputs": [
    {
     "data": {
      "text/plain": [
       "0.8762287939783663"
      ]
     },
     "execution_count": 67,
     "metadata": {},
     "output_type": "execute_result"
    }
   ],
   "source": [
    "regressor.score(X_test,Y_test)"
   ]
  },
  {
   "cell_type": "code",
   "execution_count": 68,
   "id": "cdb5e353",
   "metadata": {},
   "outputs": [
    {
     "data": {
      "text/plain": [
       "array([57. , 91. , 74. , 51. , 37. , 62. , 38. , 60. , 80. , 54. , 70. ,\n",
       "       48. , 65. , 77. , 95. , 23. , 42. , 80. , 79. , 67. , 62. , 70. ,\n",
       "       30. , 65. , 43. , 56. , 75. , 44. , 76. , 42. , 82. , 69. , 86. ,\n",
       "       53. , 70. , 47. , 55. , 60. , 47. , 94. , 52. , 60. , 41. , 80. ,\n",
       "       49. , 55. , 87. , 72. , 61. , 56. , 88. , 69. , 53. , 41. , 72. ,\n",
       "       61. , 60. , 81. , 51. , 56. , 77. , 65. , 67. , 87. , 93. , 65. ,\n",
       "       55. , 48. , 66. , 70. , 80. , 71. , 73. , 45. , 50. , 89. , 57. ,\n",
       "       41. , 75. , 43. , 61. , 53. , 73. , 69. , 42. , 72. , 82. , 67. ,\n",
       "       61. , 91. , 62. , 65. , 53. , 89. , 95. , 63. , 80. , 78. , 95. ,\n",
       "       57. , 90. , 77. , 66. , 82. , 74. , 65. , 74. , 95. , 74. , 61. ,\n",
       "       89. , 57. , 23. , 76. , 91. , 61. , 50. , 95. , 45. , 38. , 88. ,\n",
       "       80. , 50. , 89. , 83. , 77. , 45. , 95. , 70. , 52. , 59. , 85. ,\n",
       "       91. , 82. , 47. , 81. , 66. , 82. , 73. , 57. , 75. , 82. , 53. ,\n",
       "       77. , 60. , 73. , 57. , 93. , 51. , 99. , 63. , 43. , 73. , 41. ,\n",
       "       59. , 79. , 48. , 70. , 91. , 30. , 89. , 67. , 88. , 43. , 58. ,\n",
       "       64. , 56. , 78. , 67. , 50. , 74. , 83. , 69. , 52. , 58. , 78. ,\n",
       "       52. , 60. , 81. , 55. , 81. , 79. , 99. , 72. , 83.5, 71. , 63. ,\n",
       "       33. , 60. , 53. , 78. , 80. , 82. , 49. , 77. , 56. , 68. , 63. ,\n",
       "       69. , 71. ])"
      ]
     },
     "execution_count": 68,
     "metadata": {},
     "output_type": "execute_result"
    }
   ],
   "source": [
    "y_pred=regressor.predict(X_test)\n",
    "y_pred"
   ]
  },
  {
   "cell_type": "code",
   "execution_count": null,
   "id": "bf76650e",
   "metadata": {},
   "outputs": [],
   "source": []
  },
  {
   "cell_type": "code",
   "execution_count": null,
   "id": "34ab0a94",
   "metadata": {},
   "outputs": [],
   "source": []
  }
 ],
 "metadata": {
  "kernelspec": {
   "display_name": "Python 3 (ipykernel)",
   "language": "python",
   "name": "python3"
  },
  "language_info": {
   "codemirror_mode": {
    "name": "ipython",
    "version": 3
   },
   "file_extension": ".py",
   "mimetype": "text/x-python",
   "name": "python",
   "nbconvert_exporter": "python",
   "pygments_lexer": "ipython3",
   "version": "3.9.12"
  }
 },
 "nbformat": 4,
 "nbformat_minor": 5
}
